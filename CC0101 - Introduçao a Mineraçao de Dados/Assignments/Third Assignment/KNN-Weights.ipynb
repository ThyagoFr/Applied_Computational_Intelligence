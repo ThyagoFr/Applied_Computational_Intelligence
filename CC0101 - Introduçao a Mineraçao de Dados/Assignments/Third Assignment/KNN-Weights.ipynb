{
 "cells": [
  {
   "cell_type": "markdown",
   "metadata": {},
   "source": [
    "# Introducao aa Mineracao de Dados, 2019.2, UFC/DEMA\n",
    "### Implementacao basica do classificador de k vizinhos mais proximos (k-NN)"
   ]
  },
  {
   "cell_type": "code",
   "execution_count": 84,
   "metadata": {},
   "outputs": [],
   "source": [
    "import numpy as np\n",
    "import matplotlib.pyplot as plt\n",
    "%matplotlib inline\n",
    "\n",
    "np.random.seed(88) "
   ]
  },
  {
   "cell_type": "markdown",
   "metadata": {},
   "source": [
    "### Gerar exemplos de treinamento aleatoriamente"
   ]
  },
  {
   "cell_type": "code",
   "execution_count": 258,
   "metadata": {},
   "outputs": [],
   "source": [
    "dist_euclidiana = lambda a,b: np.sqrt(sum(map(lambda x,y : (x-y)**2,a,b)))\n",
    "        \n",
    "m,k,t = 100,2,100       # Numero de exemplos na amostra, Numero de vizinhos, Numero de exemplos de teste\n",
    "S = np.random.rand(m,4)  # Exemplos da amostra\n",
    "\n",
    "classe = [1]*m           # Informacao de classe\n",
    "for i in range(m):\n",
    "    d = dist_euclidiana(S[i], [0.5, 0.5])\n",
    "    if d < 0.3:\n",
    "        classe[i] = 0"
   ]
  },
  {
   "cell_type": "markdown",
   "metadata": {},
   "source": [
    "#### Plotando os dados"
   ]
  },
  {
   "cell_type": "code",
   "execution_count": 259,
   "metadata": {},
   "outputs": [
    {
     "data": {
      "image/png": "[encoded data removed]",
      "text/plain": [
       "<Figure size 432x288 with 1 Axes>"
      ]
     },
     "metadata": {
      "needs_background": "light"
     },
     "output_type": "display_data"
    }
   ],
   "source": [
    "dados = np.array([S[:,0],S[:,1],classe]).transpose()\n",
    "plt.scatter(dados[:,0].tolist(),dados[:,1].tolist(),c=dados[:,2].tolist())\n",
    "plt.show()"
   ]
  },
  {
   "cell_type": "markdown",
   "metadata": {},
   "source": [
    "#### Gerando dados de teste"
   ]
  },
  {
   "cell_type": "code",
   "execution_count": 261,
   "metadata": {},
   "outputs": [
    {
     "data": {
      "text/plain": [
       "array([[3.26657451e-01, 4.63903657e-01, 1.53287538e-01, 9.63554431e-01],\n",
       "       [7.18971286e-01, 2.51756435e-01, 2.61618976e-01, 6.73972688e-01],\n",
       "       [2.58221538e-02, 2.82734410e-01, 9.42579807e-01, 1.11206833e-02],\n",
       "       [5.92032181e-01, 1.91827394e-02, 4.18094423e-01, 4.34372960e-01],\n",
       "       [1.31455346e-01, 3.94839898e-02, 1.23813938e-01, 1.01321610e-01],\n",
       "       [3.87067005e-01, 3.61750014e-02, 4.74075018e-01, 9.93725854e-01],\n",
       "       [9.67343248e-02, 5.16545207e-01, 1.78104803e-01, 9.49936572e-01],\n",
       "       [2.88667987e-01, 6.43912504e-02, 6.08024116e-01, 7.94564566e-01],\n",
       "       [2.97775011e-01, 1.88206780e-01, 1.08924661e-01, 3.57659671e-01],\n",
       "       [5.96970521e-01, 7.86335332e-01, 3.06028674e-01, 8.23287694e-01],\n",
       "       [5.94781693e-02, 3.91831702e-01, 7.48983401e-01, 7.35287790e-01],\n",
       "       [6.55690755e-01, 6.95043307e-01, 1.83917540e-01, 2.08601476e-01],\n",
       "       [7.83309465e-01, 5.10553841e-01, 6.08950580e-01, 6.30706774e-01],\n",
       "       [8.47077236e-01, 5.23745029e-01, 5.51499332e-01, 1.91561553e-01],\n",
       "       [4.42771609e-01, 8.12227315e-01, 4.35371945e-02, 6.28305464e-01],\n",
       "       [6.97743178e-01, 8.33471164e-01, 1.18114733e-01, 4.54569450e-01],\n",
       "       [3.83963274e-01, 7.64937722e-01, 8.45088464e-02, 2.09080094e-01],\n",
       "       [6.08416965e-01, 2.14836884e-01, 4.74618342e-01, 2.95241700e-01],\n",
       "       [3.05830573e-03, 9.37031132e-01, 9.92251901e-01, 3.27066488e-01],\n",
       "       [4.04851057e-02, 4.23821978e-01, 9.53983047e-01, 1.94819049e-01],\n",
       "       [2.37242593e-01, 8.39089020e-01, 3.27509609e-01, 8.04099363e-01],\n",
       "       [3.24039360e-01, 6.01821136e-01, 7.15831008e-01, 6.84110456e-01],\n",
       "       [3.66088195e-01, 5.04590733e-01, 5.60829741e-01, 1.75613368e-01],\n",
       "       [5.42879293e-01, 2.20856056e-02, 8.54162348e-02, 7.71928749e-01],\n",
       "       [5.31178408e-02, 7.74399397e-01, 5.48772171e-01, 2.29693673e-01],\n",
       "       [7.96471017e-01, 4.98358328e-01, 7.77426397e-01, 9.58225214e-01],\n",
       "       [9.77761232e-02, 6.18163686e-01, 8.53248955e-01, 4.76964782e-01],\n",
       "       [4.19614135e-01, 6.04249509e-01, 3.76405896e-01, 4.52677421e-01],\n",
       "       [9.25692478e-01, 6.96304659e-01, 3.05824265e-01, 2.80767172e-01],\n",
       "       [1.16780237e-01, 4.73157126e-01, 9.30157252e-01, 5.51640880e-01],\n",
       "       [5.96631847e-01, 7.13284813e-01, 4.52981544e-01, 3.50077752e-01],\n",
       "       [4.35640042e-01, 8.60571666e-01, 9.35748765e-01, 7.74783448e-01],\n",
       "       [5.41315150e-01, 8.16026276e-01, 6.04219825e-01, 2.17477125e-02],\n",
       "       [2.39464695e-01, 7.95920276e-01, 9.47487819e-01, 8.00876569e-02],\n",
       "       [3.46083827e-01, 4.05187944e-01, 8.24054126e-01, 8.70994453e-01],\n",
       "       [9.06639862e-01, 9.87586075e-01, 1.80004826e-01, 7.53501824e-01],\n",
       "       [8.37855051e-01, 2.72933815e-01, 7.40280223e-02, 4.64824653e-01],\n",
       "       [9.64727751e-01, 6.47818142e-01, 9.29402868e-01, 6.08268021e-02],\n",
       "       [6.95564605e-01, 5.15687188e-01, 6.38598467e-01, 4.69782585e-01],\n",
       "       [3.79715200e-02, 6.07874879e-01, 6.54073518e-01, 5.13809710e-01],\n",
       "       [4.70466279e-01, 7.12922218e-01, 1.04758430e-01, 3.01837388e-01],\n",
       "       [1.38576103e-01, 9.15805183e-01, 1.61732149e-01, 6.22871348e-01],\n",
       "       [6.46052271e-01, 4.00444193e-01, 9.81869438e-02, 5.67667440e-01],\n",
       "       [2.73692494e-01, 3.73240389e-01, 2.57523307e-01, 9.06559912e-01],\n",
       "       [3.40861716e-01, 3.26470376e-01, 2.19654522e-01, 8.02730859e-01],\n",
       "       [3.51989239e-01, 9.94446706e-01, 6.41092025e-01, 4.69262449e-01],\n",
       "       [2.37355843e-02, 8.88097407e-01, 4.87878386e-01, 5.31167090e-01],\n",
       "       [5.39502230e-01, 2.57730320e-01, 3.15769691e-02, 5.03865018e-01],\n",
       "       [2.86979424e-01, 4.76470074e-01, 5.06695177e-01, 3.57435806e-01],\n",
       "       [6.00421138e-01, 7.50536845e-01, 2.91864837e-02, 5.51083183e-01],\n",
       "       [2.04371683e-01, 3.20777341e-01, 2.52336794e-01, 8.52799840e-01],\n",
       "       [6.38403898e-01, 5.02342667e-01, 5.65151750e-01, 4.44862421e-01],\n",
       "       [3.61216340e-01, 3.63095620e-01, 7.26400980e-01, 6.10558755e-01],\n",
       "       [6.18043065e-01, 3.74418769e-01, 3.92554214e-01, 8.18882769e-01],\n",
       "       [6.61165460e-01, 6.00509019e-01, 7.87090676e-01, 6.90024975e-01],\n",
       "       [8.00186312e-01, 7.50856882e-01, 5.31713782e-01, 4.29540237e-01],\n",
       "       [9.03697734e-01, 5.79340101e-01, 1.95369855e-01, 7.04694268e-01],\n",
       "       [8.28333980e-01, 1.88872984e-01, 1.86842425e-01, 5.94642040e-01],\n",
       "       [6.06248563e-01, 4.42570655e-01, 5.72387215e-01, 1.49324145e-01],\n",
       "       [4.51770049e-01, 5.72533014e-01, 9.19734464e-01, 9.53733217e-01],\n",
       "       [8.49053865e-02, 4.51419335e-01, 8.21269776e-01, 9.03212385e-01],\n",
       "       [6.99994843e-01, 7.45706963e-01, 8.72805828e-02, 6.13607415e-01],\n",
       "       [7.89828052e-01, 1.87678753e-02, 8.15213155e-01, 6.28051134e-01],\n",
       "       [4.30100215e-01, 4.43541291e-01, 4.14802516e-01, 2.51401104e-01],\n",
       "       [9.71853884e-01, 3.33492362e-01, 4.61790427e-01, 8.17426450e-01],\n",
       "       [2.41667262e-01, 4.10713082e-01, 6.82942467e-01, 6.26057430e-01],\n",
       "       [1.35135771e-01, 2.36541211e-01, 1.60292034e-02, 3.41971131e-02],\n",
       "       [9.69469582e-01, 1.38009568e-01, 2.51849147e-01, 2.15947998e-02],\n",
       "       [4.93659668e-01, 3.00200330e-01, 8.74233610e-02, 8.13144482e-01],\n",
       "       [6.74371262e-01, 4.80114902e-01, 6.88413759e-01, 8.27450925e-01],\n",
       "       [4.71680370e-01, 8.09557521e-01, 1.43443881e-03, 3.26435129e-01],\n",
       "       [7.69614299e-01, 1.90831399e-01, 8.43211927e-01, 7.54262125e-01],\n",
       "       [1.90783256e-01, 9.15827713e-01, 2.91159431e-02, 6.93309066e-01],\n",
       "       [8.42985775e-02, 1.38213379e-01, 8.63318395e-01, 7.70003764e-01],\n",
       "       [4.13430999e-01, 2.95689214e-01, 7.68229741e-02, 7.05030411e-01],\n",
       "       [7.45384466e-01, 6.35766194e-01, 9.57216196e-01, 8.41389716e-01],\n",
       "       [4.51027774e-01, 5.32298371e-01, 7.74005847e-01, 4.71973860e-01],\n",
       "       [5.90745276e-01, 3.99490217e-01, 9.57874197e-01, 1.98956675e-01],\n",
       "       [5.36723540e-01, 3.24521714e-01, 6.72717996e-01, 5.21768674e-01],\n",
       "       [1.00731291e-01, 4.68335628e-01, 4.61583570e-01, 6.98915913e-01],\n",
       "       [7.62042214e-01, 1.26787823e-01, 7.79867399e-02, 4.06502592e-01],\n",
       "       [6.27607424e-01, 3.68256923e-01, 8.39566545e-01, 1.47523527e-01],\n",
       "       [6.23180061e-01, 4.26945624e-01, 4.00346250e-02, 2.63136761e-02],\n",
       "       [4.74287905e-01, 5.61938922e-01, 5.00005251e-01, 4.55762930e-02],\n",
       "       [3.15552134e-01, 5.79307978e-01, 4.37002409e-01, 5.29870678e-01],\n",
       "       [2.67893575e-01, 6.99754831e-01, 8.68812645e-01, 6.18405165e-01],\n",
       "       [1.05351046e-01, 9.48652630e-02, 6.68345154e-02, 2.65203235e-01],\n",
       "       [9.11457194e-01, 6.56187407e-01, 5.16731754e-01, 9.87381162e-03],\n",
       "       [7.49577667e-01, 4.38346579e-01, 4.82974623e-01, 9.67771701e-04],\n",
       "       [8.90851209e-01, 6.71896257e-01, 6.92798680e-01, 1.62463240e-01],\n",
       "       [3.48941500e-02, 1.75896027e-01, 3.99504818e-02, 6.14390205e-01],\n",
       "       [2.27147678e-01, 5.25993415e-01, 3.40471950e-01, 1.57217079e-01],\n",
       "       [8.77501510e-03, 5.18574697e-01, 1.03147923e-01, 8.97548805e-01],\n",
       "       [9.27997982e-01, 6.23567785e-01, 6.65885461e-01, 2.46774859e-02],\n",
       "       [1.01027472e-01, 9.45978326e-01, 7.89967515e-01, 7.23315290e-01],\n",
       "       [2.91505282e-01, 4.16958084e-01, 2.09275298e-01, 9.43836074e-01],\n",
       "       [5.59972041e-01, 9.29498486e-01, 6.65969041e-01, 6.46351650e-01],\n",
       "       [8.20628672e-01, 7.25043033e-01, 1.11237754e-01, 1.31398157e-01],\n",
       "       [6.91217669e-01, 1.90017676e-01, 4.87401185e-01, 6.01771447e-01],\n",
       "       [3.60307269e-01, 8.91399310e-01, 4.01427987e-01, 4.12656086e-01]])"
      ]
     },
     "execution_count": 261,
     "metadata": {},
     "output_type": "execute_result"
    }
   ],
   "source": [
    "dados_teste = np.random.rand(t,4)\n",
    "dados_teste"
   ]
  },
  {
   "cell_type": "markdown",
   "metadata": {},
   "source": [
    "## Algoritmo K-Nearest-Neighbor"
   ]
  },
  {
   "cell_type": "code",
   "execution_count": 204,
   "metadata": {},
   "outputs": [
    {
     "ename": "NameError",
     "evalue": "name 'Teste' is not defined",
     "output_type": "error",
     "traceback": [
      "\u001b[1;31m---------------------------------------------------------------------------\u001b[0m",
      "\u001b[1;31mNameError\u001b[0m                                 Traceback (most recent call last)",
      "\u001b[1;32m<ipython-input-204-5a177e2d95f7>\u001b[0m in \u001b[0;36m<module>\u001b[1;34m\u001b[0m\n\u001b[0;32m      2\u001b[0m \u001b[1;33m\u001b[0m\u001b[0m\n\u001b[0;32m      3\u001b[0m     \u001b[1;31m# Gerar exemplo\u001b[0m\u001b[1;33m\u001b[0m\u001b[1;33m\u001b[0m\u001b[1;33m\u001b[0m\u001b[0m\n\u001b[1;32m----> 4\u001b[1;33m     \u001b[0mex\u001b[0m \u001b[1;33m=\u001b[0m \u001b[0mTeste\u001b[0m\u001b[1;33m[\u001b[0m\u001b[0mi\u001b[0m\u001b[1;33m]\u001b[0m\u001b[1;33m\u001b[0m\u001b[1;33m\u001b[0m\u001b[0m\n\u001b[0m\u001b[0;32m      5\u001b[0m \u001b[1;33m\u001b[0m\u001b[0m\n\u001b[0;32m      6\u001b[0m     \u001b[1;31m# Calcular distancia a todos os exemplos de S\u001b[0m\u001b[1;33m\u001b[0m\u001b[1;33m\u001b[0m\u001b[1;33m\u001b[0m\u001b[0m\n",
      "\u001b[1;31mNameError\u001b[0m: name 'Teste' is not defined"
     ]
    }
   ],
   "source": [
    "for i in range(t):\n",
    "\n",
    "    # Gerar exemplo\n",
    "    ex = Teste[i]\n",
    "    \n",
    "    # Calcular distancia a todos os exemplos de S\n",
    "    # A lista <distancias> contem pares ordenados do tipo (d,j), onde j e'\n",
    "    # o indice do exemplo de treinamento e d e' a distancia do j-esimo exemplo\n",
    "    # de treinamento para o exemplo de teste\n",
    "    distancias = [ (dist_euclidiana(ex, S[j]), j) for j in range(m) ]\n",
    "\n",
    "    # Determinar vizinhos mais proximos:\n",
    "    # (ordena lista em ordem crescente da distancia)\n",
    "    distancias.sort()\n",
    "\n",
    "    # -------------------------------------------------------------------------\n",
    "    # Obter indices e classes dos exemplos mais proximos\n",
    "    indices_dos_mais_proximos = [ distancias[i][1] for i in range(k) ]\n",
    "    classes_dos_mais_proximos = [ classe[i] for i in indices_dos_mais_proximos ]\n",
    "    cmp = classes_dos_mais_proximos\n",
    "    print(cmp)\n",
    "    \n",
    "    # Obter frequencia de cada classe existente entre os vizinhos mais proximos\n",
    "    # Cada item de <frequencias> tem a forma (frequencia, classe)\n",
    "    frequencias = [ (cmp.count(c), c) for c in classes_dos_mais_proximos ]\n",
    "    \n",
    "    # Obter a classe mais frequente (ordena por frequencia, ordem decrescente)\n",
    "    frequencias.sort(reverse=True)\n",
    "    previsao = frequencias[0][1] # Pegar classe do primeiro elemento\n",
    "\n",
    "    # Plotar previsoes\n",
    "    if previsao == 0:\n",
    "        plt.scatter(x=[ex[0]], y=[ex[1]], c='b', marker='o')\n",
    "    else:\n",
    "        plt.scatter(x=[ex[0]], y=[ex[1]], c='m', marker='o')\n",
    "plt.title(\"Previsao\")\n",
    "plt.show()"
   ]
  },
  {
   "cell_type": "code",
   "execution_count": 332,
   "metadata": {},
   "outputs": [],
   "source": [
    "def k_vizinhos_pesos(novas_amostras,treino,k_vizinhos = 3):\n",
    "    previsoes = []\n",
    "    for i in range(len(novas_amostras)):\n",
    "        amostra_i = novas_amostras[i]\n",
    "        dist = np.array( [(dist_euclidiana(amostra_i,treino[j][:-1]),j) for j in range(len(treino)) ])\n",
    "        if 0 in dist[:,0]:\n",
    "            x = [ treino[int(dist[int(k)][1])][2]  for a,k in dist if a == 0]\n",
    "            previsoes.append(np.argmax(np.bincount(x)))\n",
    "        else:\n",
    "            dist = dist.tolist()\n",
    "            dist.sort(key = lambda lista : lista[0])\n",
    "            indices_dos_mais_proximos = [ int(dist[a][1]) for a in range(k_vizinhos) ]\n",
    "            distancias_dos_mais_proximos = [ 1/(dist[a][0]) for a in range(k_vizinhos) ]\n",
    "            classes_dos_mais_proximos = [ treino[b][-1] for b in indices_dos_mais_proximos ]\n",
    "            #print(classes_dos_mais_proximos)\n",
    "            soma_classes_dis = { i:0 for i in set(treino[:,-1])}\n",
    "            for (classe,dis) in zip(classes_dos_mais_proximos,distancias_dos_mais_proximos):\n",
    "                soma_classes_dis[classe] += dis\n",
    "\n",
    "            previsoes.append(max(soma_classes_dis,key=soma_classes_dis.get))\n",
    "    return previsoes\n",
    "    \n",
    "#resultado = k_vizinhos_pesos(dados_teste,dados,10)\n",
    "#plt.scatter(dados_teste[:,0].tolist(),dados_teste[:,1].tolist(),c=resultado)\n",
    "#plt.show()"
   ]
  },
  {
   "cell_type": "markdown",
   "metadata": {},
   "source": [
    "### Testando com o iris"
   ]
  },
  {
   "cell_type": "code",
   "execution_count": 333,
   "metadata": {},
   "outputs": [
    {
     "name": "stdout",
     "output_type": "stream",
     "text": [
      "{0.0: 0, 1.0: 0, 2.0: 0}\n",
      "{0.0: 0, 1.0: 0, 2.0: 0}\n",
      "{0.0: 0, 1.0: 0, 2.0: 0}\n",
      "{0.0: 0, 1.0: 0, 2.0: 0}\n",
      "{0.0: 0, 1.0: 0, 2.0: 0}\n",
      "{0.0: 0, 1.0: 0, 2.0: 0}\n",
      "{0.0: 0, 1.0: 0, 2.0: 0}\n",
      "{0.0: 0, 1.0: 0, 2.0: 0}\n",
      "{0.0: 0, 1.0: 0, 2.0: 0}\n",
      "{0.0: 0, 1.0: 0, 2.0: 0}\n",
      "{0.0: 0, 1.0: 0, 2.0: 0}\n",
      "{0.0: 0, 1.0: 0, 2.0: 0}\n",
      "{0.0: 0, 1.0: 0, 2.0: 0}\n",
      "{0.0: 0, 1.0: 0, 2.0: 0}\n",
      "{0.0: 0, 1.0: 0, 2.0: 0}\n",
      "{0.0: 0, 1.0: 0, 2.0: 0}\n",
      "{0.0: 0, 1.0: 0, 2.0: 0}\n",
      "{0.0: 0, 1.0: 0, 2.0: 0}\n",
      "{0.0: 0, 1.0: 0, 2.0: 0}\n",
      "{0.0: 0, 1.0: 0, 2.0: 0}\n",
      "{0.0: 0, 1.0: 0, 2.0: 0}\n",
      "{0.0: 0, 1.0: 0, 2.0: 0}\n",
      "{0.0: 0, 1.0: 0, 2.0: 0}\n",
      "{0.0: 0, 1.0: 0, 2.0: 0}\n",
      "{0.0: 0, 1.0: 0, 2.0: 0}\n",
      "{0.0: 0, 1.0: 0, 2.0: 0}\n",
      "{0.0: 0, 1.0: 0, 2.0: 0}\n",
      "{0.0: 0, 1.0: 0, 2.0: 0}\n",
      "{0.0: 0, 1.0: 0, 2.0: 0}\n",
      "{0.0: 0, 1.0: 0, 2.0: 0}\n",
      "{0.0: 0, 1.0: 0, 2.0: 0}\n",
      "{0.0: 0, 1.0: 0, 2.0: 0}\n",
      "{0.0: 0, 1.0: 0, 2.0: 0}\n",
      "{0.0: 0, 1.0: 0, 2.0: 0}\n",
      "{0.0: 0, 1.0: 0, 2.0: 0}\n",
      "{0.0: 0, 1.0: 0, 2.0: 0}\n",
      "{0.0: 0, 1.0: 0, 2.0: 0}\n",
      "{0.0: 0, 1.0: 0, 2.0: 0}\n",
      "{0.0: 0, 1.0: 0, 2.0: 0}\n",
      "{0.0: 0, 1.0: 0, 2.0: 0}\n",
      "{0.0: 0, 1.0: 0, 2.0: 0}\n",
      "{0.0: 0, 1.0: 0, 2.0: 0}\n",
      "{0.0: 0, 1.0: 0, 2.0: 0}\n",
      "{0.0: 0, 1.0: 0, 2.0: 0}\n",
      "{0.0: 0, 1.0: 0, 2.0: 0}\n",
      "{0.0: 0, 1.0: 0, 2.0: 0}\n",
      "{0.0: 0, 1.0: 0, 2.0: 0}\n",
      "{0.0: 0, 1.0: 0, 2.0: 0}\n",
      "{0.0: 0, 1.0: 0, 2.0: 0}\n",
      "{0.0: 0, 1.0: 0, 2.0: 0}\n",
      "ACERTOU\n",
      "ACERTOU\n",
      "ACERTOU\n",
      "ACERTOU\n",
      "ACERTOU\n",
      "ACERTOU\n",
      "ACERTOU\n",
      "ACERTOU\n",
      "ACERTOU\n",
      "ACERTOU\n",
      "ERROU\n",
      "ERROU\n",
      "ACERTOU\n",
      "ACERTOU\n",
      "ACERTOU\n",
      "ACERTOU\n",
      "ACERTOU\n",
      "ERROU\n",
      "ACERTOU\n",
      "ACERTOU\n",
      "ACERTOU\n",
      "ACERTOU\n",
      "ACERTOU\n",
      "ACERTOU\n",
      "ACERTOU\n",
      "ACERTOU\n",
      "ACERTOU\n",
      "ERROU\n",
      "ACERTOU\n",
      "ACERTOU\n",
      "ACERTOU\n",
      "ERROU\n",
      "ACERTOU\n",
      "ACERTOU\n",
      "ACERTOU\n",
      "ACERTOU\n",
      "ACERTOU\n",
      "ACERTOU\n",
      "ERROU\n",
      "ACERTOU\n",
      "ACERTOU\n",
      "ACERTOU\n",
      "ACERTOU\n",
      "ACERTOU\n",
      "ACERTOU\n",
      "ACERTOU\n",
      "ACERTOU\n",
      "ACERTOU\n",
      "ACERTOU\n",
      "ACERTOU\n"
     ]
    }
   ],
   "source": [
    "from sklearn import datasets\n",
    "import pandas as pd\n",
    "iris = datasets.load_iris()\n",
    "iris_df = pd.DataFrame(data = iris.data,columns=iris.feature_names)\n",
    "iris_df[\"class\"] = iris.target\n",
    "iris_df = iris_df.sample(frac=1)\n",
    "\n",
    "iris_dfx = np.array(iris_df[:50].drop(['class'],axis=1))\n",
    "iris_dfx2 = np.array(iris_df[:50])\n",
    "iris_dfy = np.array(iris_df[51:100])\n",
    "\n",
    "res = k_vizinhos_pesos(iris_dfx,np.array(iris_dfy))\n",
    "for k in range(len(res)):\n",
    "    if iris_dfx2[k][-1] == res[k]:\n",
    "        print(\"ACERTOU\")\n",
    "    else:\n",
    "        print(\"ERROU\")\n",
    "#np.array(iris_dfy)"
   ]
  },
  {
   "cell_type": "code",
   "execution_count": 329,
   "metadata": {},
   "outputs": [
    {
     "data": {
      "text/plain": [
       "{0.0, 1.0, 2.0}"
      ]
     },
     "execution_count": 329,
     "metadata": {},
     "output_type": "execute_result"
    }
   ],
   "source": [
    "from itertools import groupby \n",
    "a =  set(iris_dfy[:,-1])\n",
    "a"
   ]
  },
  {
   "cell_type": "code",
   "execution_count": 304,
   "metadata": {},
   "outputs": [
    {
     "data": {
      "text/plain": [
       "array([[5.4, 3.9, 1.3, 0.4, 0. ],\n",
       "       [6.3, 2.9, 5.6, 1.8, 2. ],\n",
       "       [6.3, 2.5, 4.9, 1.5, 1. ],\n",
       "       [6.7, 3.1, 4.7, 1.5, 1. ],\n",
       "       [4.4, 3. , 1.3, 0.2, 0. ],\n",
       "       [4.9, 2.5, 4.5, 1.7, 2. ],\n",
       "       [4.3, 3. , 1.1, 0.1, 0. ],\n",
       "       [5.5, 2.4, 3.7, 1. , 1. ],\n",
       "       [5.1, 3.3, 1.7, 0.5, 0. ],\n",
       "       [5.4, 3.7, 1.5, 0.2, 0. ],\n",
       "       [6. , 2.7, 5.1, 1.6, 1. ],\n",
       "       [5.8, 2.7, 3.9, 1.2, 1. ],\n",
       "       [5.1, 3.4, 1.5, 0.2, 0. ],\n",
       "       [5.5, 2.3, 4. , 1.3, 1. ],\n",
       "       [6. , 2.9, 4.5, 1.5, 1. ],\n",
       "       [5. , 3.4, 1.5, 0.2, 0. ],\n",
       "       [5.1, 3.8, 1.9, 0.4, 0. ],\n",
       "       [4.6, 3.4, 1.4, 0.3, 0. ],\n",
       "       [4.8, 3.4, 1.9, 0.2, 0. ],\n",
       "       [6.1, 3. , 4.6, 1.4, 1. ],\n",
       "       [6. , 3.4, 4.5, 1.6, 1. ],\n",
       "       [5.6, 2.8, 4.9, 2. , 2. ],\n",
       "       [6.7, 3.1, 5.6, 2.4, 2. ],\n",
       "       [4.5, 2.3, 1.3, 0.3, 0. ],\n",
       "       [6.7, 3. , 5.2, 2.3, 2. ],\n",
       "       [7.7, 2.8, 6.7, 2. , 2. ],\n",
       "       [5.5, 3.5, 1.3, 0.2, 0. ],\n",
       "       [6. , 3. , 4.8, 1.8, 2. ],\n",
       "       [6.7, 3.3, 5.7, 2.1, 2. ],\n",
       "       [7.7, 3.8, 6.7, 2.2, 2. ],\n",
       "       [5.7, 2.8, 4.1, 1.3, 1. ],\n",
       "       [6. , 2.2, 5. , 1.5, 2. ],\n",
       "       [6.3, 3.3, 4.7, 1.6, 1. ],\n",
       "       [5.1, 2.5, 3. , 1.1, 1. ],\n",
       "       [6.4, 3.2, 5.3, 2.3, 2. ],\n",
       "       [5. , 3. , 1.6, 0.2, 0. ],\n",
       "       [5.9, 3. , 4.2, 1.5, 1. ],\n",
       "       [6.5, 3. , 5.2, 2. , 2. ],\n",
       "       [5.5, 2.4, 3.8, 1.1, 1. ],\n",
       "       [5. , 2. , 3.5, 1. , 1. ],\n",
       "       [4.8, 3.1, 1.6, 0.2, 0. ],\n",
       "       [5.5, 2.6, 4.4, 1.2, 1. ],\n",
       "       [5.1, 3.7, 1.5, 0.4, 0. ],\n",
       "       [5.8, 2.7, 4.1, 1. , 1. ],\n",
       "       [6.1, 2.9, 4.7, 1.4, 1. ],\n",
       "       [6.3, 2.5, 5. , 1.9, 2. ],\n",
       "       [4.8, 3. , 1.4, 0.1, 0. ],\n",
       "       [6.3, 2.7, 4.9, 1.8, 2. ],\n",
       "       [6.9, 3.1, 4.9, 1.5, 1. ]])"
      ]
     },
     "execution_count": 304,
     "metadata": {},
     "output_type": "execute_result"
    }
   ],
   "source": []
  }
 ],
 "metadata": {
  "kernelspec": {
   "display_name": "Python 3",
   "language": "python",
   "name": "python3"
  },
  "language_info": {
   "codemirror_mode": {
    "name": "ipython",
    "version": 3
   },
   "file_extension": ".py",
   "mimetype": "text/x-python",
   "name": "python",
   "nbconvert_exporter": "python",
   "pygments_lexer": "ipython3",
   "version": "3.7.3"
  }
 },
 "nbformat": 4,
 "nbformat_minor": 2
}
